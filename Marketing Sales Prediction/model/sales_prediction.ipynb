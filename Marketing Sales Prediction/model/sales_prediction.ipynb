{
  "nbformat": 4,
  "nbformat_minor": 0,
  "metadata": {
    "colab": {
      "name": "HIGHWAY TO HELL",
      "provenance": [],
      "collapsed_sections": []
    },
    "kernelspec": {
      "name": "python3",
      "display_name": "Python 3"
    }
  },
  "cells": [
    {
      "cell_type": "code",
      "metadata": {
        "id": "NdmgmA3YSMW2"
      },
      "source": [
        "LIBRARIES"
      ],
      "execution_count": null,
      "outputs": []
    },
    {
      "cell_type": "code",
      "metadata": {
        "id": "8-T6Yk0WQr8j"
      },
      "source": [
        "import pandas as pd\n",
        "import numpy as np\n",
        "from sklearn import preprocessing\n",
        "from sklearn.model_selection import train_test_split\n",
        "from sklearn.metrics import accuracy_score\n",
        "from sklearn.metrics import mean_squared_error\n",
        "from sklearn.preprocessing import scale\n",
        "from sklearn.metrics import r2_score\n",
        "from sklearn import metrics"
      ],
      "execution_count": null,
      "outputs": []
    },
    {
      "cell_type": "markdown",
      "metadata": {
        "id": "WCY0PNBQQ319"
      },
      "source": [
        "\n",
        "LOADING THE DATASET"
      ]
    },
    {
      "cell_type": "code",
      "metadata": {
        "id": "VarZEdEVQ5vt",
        "outputId": "0bcd62ac-8ef1-4248-ad83-45f6cb937532",
        "colab": {
          "resources": {
            "http://localhost:8080/nbextensions/google.colab/files.js": {
              "data": "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",
              "ok": true,
              "headers": [
                [
                  "content-type",
                  "application/javascript"
                ]
              ],
              "status": 200,
              "status_text": ""
            }
          },
          "base_uri": "https://localhost:8080/",
          "height": 73
        }
      },
      "source": [
        "from google.colab import files \n",
        "uploaded = files.upload()"
      ],
      "execution_count": null,
      "outputs": [
        {
          "output_type": "display_data",
          "data": {
            "text/html": [
              "\n",
              "     <input type=\"file\" id=\"files-eaec76d7-7376-4e28-ae76-5b8287602a6e\" name=\"files[]\" multiple disabled\n",
              "        style=\"border:none\" />\n",
              "     <output id=\"result-eaec76d7-7376-4e28-ae76-5b8287602a6e\">\n",
              "      Upload widget is only available when the cell has been executed in the\n",
              "      current browser session. Please rerun this cell to enable.\n",
              "      </output>\n",
              "      <script src=\"/nbextensions/google.colab/files.js\"></script> "
            ],
            "text/plain": [
              "<IPython.core.display.HTML object>"
            ]
          },
          "metadata": {
            "tags": []
          }
        },
        {
          "output_type": "stream",
          "text": [
            "Saving Final Dataset.xlsx - Sheet1.csv to Final Dataset.xlsx - Sheet1.csv\n"
          ],
          "name": "stdout"
        }
      ]
    },
    {
      "cell_type": "code",
      "metadata": {
        "id": "b0t461ufRCRD"
      },
      "source": [
        "import io\n",
        "df_new=pd.read_csv(\"Final Dataset.xlsx - Sheet1.csv\")"
      ],
      "execution_count": null,
      "outputs": []
    },
    {
      "cell_type": "markdown",
      "metadata": {
        "id": "lJY4ahMjRGlL"
      },
      "source": [
        "FIRST 10 OBSERVATIONS"
      ]
    },
    {
      "cell_type": "code",
      "metadata": {
        "id": "1Ec5QlAgRKxz",
        "outputId": "bec923ca-6dae-4b1f-ff22-96e21acd2ab0",
        "colab": {
          "base_uri": "https://localhost:8080/",
          "height": 347
        }
      },
      "source": [
        "df_new.head(10)"
      ],
      "execution_count": null,
      "outputs": [
        {
          "output_type": "execute_result",
          "data": {
            "text/html": [
              "<div>\n",
              "<style scoped>\n",
              "    .dataframe tbody tr th:only-of-type {\n",
              "        vertical-align: middle;\n",
              "    }\n",
              "\n",
              "    .dataframe tbody tr th {\n",
              "        vertical-align: top;\n",
              "    }\n",
              "\n",
              "    .dataframe thead th {\n",
              "        text-align: right;\n",
              "    }\n",
              "</style>\n",
              "<table border=\"1\" class=\"dataframe\">\n",
              "  <thead>\n",
              "    <tr style=\"text-align: right;\">\n",
              "      <th></th>\n",
              "      <th>PROD_CD</th>\n",
              "      <th>SLSMAN_CD</th>\n",
              "      <th>PLAN_MONTH</th>\n",
              "      <th>PLAN_YEAR</th>\n",
              "      <th>TARGET_IN_EA</th>\n",
              "      <th>ACH_IN_EA</th>\n",
              "    </tr>\n",
              "  </thead>\n",
              "  <tbody>\n",
              "    <tr>\n",
              "      <th>0</th>\n",
              "      <td>PROD_3</td>\n",
              "      <td>SLSMAN_1</td>\n",
              "      <td>10</td>\n",
              "      <td>2019</td>\n",
              "      <td>80</td>\n",
              "      <td>0</td>\n",
              "    </tr>\n",
              "    <tr>\n",
              "      <th>1</th>\n",
              "      <td>PROD_3</td>\n",
              "      <td>SLSMAN_1</td>\n",
              "      <td>11</td>\n",
              "      <td>2019</td>\n",
              "      <td>80</td>\n",
              "      <td>0</td>\n",
              "    </tr>\n",
              "    <tr>\n",
              "      <th>2</th>\n",
              "      <td>PROD_3</td>\n",
              "      <td>SLSMAN_1</td>\n",
              "      <td>12</td>\n",
              "      <td>2019</td>\n",
              "      <td>40</td>\n",
              "      <td>0</td>\n",
              "    </tr>\n",
              "    <tr>\n",
              "      <th>3</th>\n",
              "      <td>PROD_5</td>\n",
              "      <td>SLSMAN_1</td>\n",
              "      <td>10</td>\n",
              "      <td>2019</td>\n",
              "      <td>160</td>\n",
              "      <td>211</td>\n",
              "    </tr>\n",
              "    <tr>\n",
              "      <th>4</th>\n",
              "      <td>PROD_5</td>\n",
              "      <td>SLSMAN_1</td>\n",
              "      <td>11</td>\n",
              "      <td>2019</td>\n",
              "      <td>160</td>\n",
              "      <td>173</td>\n",
              "    </tr>\n",
              "    <tr>\n",
              "      <th>5</th>\n",
              "      <td>PROD_5</td>\n",
              "      <td>SLSMAN_1</td>\n",
              "      <td>12</td>\n",
              "      <td>2019</td>\n",
              "      <td>240</td>\n",
              "      <td>175</td>\n",
              "    </tr>\n",
              "    <tr>\n",
              "      <th>6</th>\n",
              "      <td>PROD_8</td>\n",
              "      <td>SLSMAN_1</td>\n",
              "      <td>10</td>\n",
              "      <td>2019</td>\n",
              "      <td>0</td>\n",
              "      <td>7</td>\n",
              "    </tr>\n",
              "    <tr>\n",
              "      <th>7</th>\n",
              "      <td>PROD_10</td>\n",
              "      <td>SLSMAN_1</td>\n",
              "      <td>10</td>\n",
              "      <td>2019</td>\n",
              "      <td>0</td>\n",
              "      <td>82</td>\n",
              "    </tr>\n",
              "    <tr>\n",
              "      <th>8</th>\n",
              "      <td>PROD_10</td>\n",
              "      <td>SLSMAN_1</td>\n",
              "      <td>11</td>\n",
              "      <td>2019</td>\n",
              "      <td>0</td>\n",
              "      <td>79</td>\n",
              "    </tr>\n",
              "    <tr>\n",
              "      <th>9</th>\n",
              "      <td>PROD_10</td>\n",
              "      <td>SLSMAN_1</td>\n",
              "      <td>12</td>\n",
              "      <td>2019</td>\n",
              "      <td>0</td>\n",
              "      <td>59</td>\n",
              "    </tr>\n",
              "  </tbody>\n",
              "</table>\n",
              "</div>"
            ],
            "text/plain": [
              "   PROD_CD SLSMAN_CD  PLAN_MONTH  PLAN_YEAR TARGET_IN_EA ACH_IN_EA\n",
              "0   PROD_3  SLSMAN_1          10       2019           80         0\n",
              "1   PROD_3  SLSMAN_1          11       2019           80         0\n",
              "2   PROD_3  SLSMAN_1          12       2019           40         0\n",
              "3   PROD_5  SLSMAN_1          10       2019          160       211\n",
              "4   PROD_5  SLSMAN_1          11       2019          160       173\n",
              "5   PROD_5  SLSMAN_1          12       2019          240       175\n",
              "6   PROD_8  SLSMAN_1          10       2019            0         7\n",
              "7  PROD_10  SLSMAN_1          10       2019            0        82\n",
              "8  PROD_10  SLSMAN_1          11       2019            0        79\n",
              "9  PROD_10  SLSMAN_1          12       2019            0        59"
            ]
          },
          "metadata": {
            "tags": []
          },
          "execution_count": 4
        }
      ]
    },
    {
      "cell_type": "markdown",
      "metadata": {
        "id": "EwOf5d4nShOv"
      },
      "source": [
        "COLUMN NAMES"
      ]
    },
    {
      "cell_type": "code",
      "metadata": {
        "id": "QTom_HYhRO5j",
        "outputId": "887ebb10-2fae-4891-91f0-3262b313a000",
        "colab": {
          "base_uri": "https://localhost:8080/",
          "height": 70
        }
      },
      "source": [
        "df_new.columns"
      ],
      "execution_count": null,
      "outputs": [
        {
          "output_type": "execute_result",
          "data": {
            "text/plain": [
              "Index(['PROD_CD', 'SLSMAN_CD', 'PLAN_MONTH', 'PLAN_YEAR', 'TARGET_IN_EA',\n",
              "       'ACH_IN_EA'],\n",
              "      dtype='object')"
            ]
          },
          "metadata": {
            "tags": []
          },
          "execution_count": 5
        }
      ]
    },
    {
      "cell_type": "markdown",
      "metadata": {
        "id": "im4Wmf6ERbaC"
      },
      "source": [
        "CONVERTING CATEGORICAL VARIABLES INTO NUMERICAL VALUES"
      ]
    },
    {
      "cell_type": "code",
      "metadata": {
        "id": "ok-_Tc9sRa7E"
      },
      "source": [
        "\n",
        "Le=preprocessing.LabelEncoder()\n",
        "df=df_new\n",
        "df[\"PROD_CD\"]=Le.fit_transform(df_new[\"PROD_CD\"])\n",
        "df[\"SLSMAN_CD\"]=Le.fit_transform(df_new[\"SLSMAN_CD\"])\n"
      ],
      "execution_count": null,
      "outputs": []
    },
    {
      "cell_type": "markdown",
      "metadata": {
        "id": "d-CUaZ_eY4gg"
      },
      "source": [
        "REMOVING THE COMAS B/W THE NUMBERS"
      ]
    },
    {
      "cell_type": "code",
      "metadata": {
        "id": "DRyu4YSuRg3a"
      },
      "source": [
        "df_new['TARGET_IN_EA'] = df_new['TARGET_IN_EA'].str.replace(',', '').astype(float)\n",
        "df_new['ACH_IN_EA'] = df_new['ACH_IN_EA'].str.replace(',', '').astype(float)"
      ],
      "execution_count": null,
      "outputs": []
    },
    {
      "cell_type": "code",
      "metadata": {
        "id": "8js1QF_uRisC"
      },
      "source": [
        "df_new=df_new.drop([\"PLAN_YEAR\"],axis=1)\n"
      ],
      "execution_count": null,
      "outputs": []
    },
    {
      "cell_type": "markdown",
      "metadata": {
        "id": "7XXKz0bUZWql"
      },
      "source": [
        "REMOVING OUTLIERS FROM THE DATASET"
      ]
    },
    {
      "cell_type": "code",
      "metadata": {
        "id": "lQt70dbZW6JV",
        "outputId": "f211a89b-10d8-4d3e-f6ed-144b49f7c439",
        "colab": {
          "base_uri": "https://localhost:8080/",
          "height": 141
        }
      },
      "source": [
        "from scipy import stats\n",
        "z = np.abs(stats.zscore(df_new))\n",
        "print(z)\n",
        "threshold = 9\n",
        "end = df_new[(z < 9).all(axis=1)]"
      ],
      "execution_count": null,
      "outputs": [
        {
          "output_type": "stream",
          "text": [
            "[[0.51171738 1.64043602 1.29826521 0.34376698 0.35010729]\n",
            " [0.51171738 1.64043602 0.0496255  0.34376698 0.35010729]\n",
            " [0.51171738 1.64043602 1.19901422 0.34747329 0.35010729]\n",
            " ...\n",
            " [1.60115336 0.46094405 1.19901422 0.3511796  0.34973024]\n",
            " [1.72792561 0.46094405 0.0496255  0.3511796  0.33860732]\n",
            " [1.72792561 0.46094405 1.19901422 0.3511796  0.33031227]]\n"
          ],
          "name": "stdout"
        }
      ]
    },
    {
      "cell_type": "code",
      "metadata": {
        "id": "hbvprB3Q6M57",
        "outputId": "ff1d3aea-4af2-4126-9b82-c0ff381ad79d",
        "colab": {
          "base_uri": "https://localhost:8080/",
          "height": 197
        }
      },
      "source": [
        "end.corr()"
      ],
      "execution_count": null,
      "outputs": [
        {
          "output_type": "execute_result",
          "data": {
            "text/html": [
              "<div>\n",
              "<style scoped>\n",
              "    .dataframe tbody tr th:only-of-type {\n",
              "        vertical-align: middle;\n",
              "    }\n",
              "\n",
              "    .dataframe tbody tr th {\n",
              "        vertical-align: top;\n",
              "    }\n",
              "\n",
              "    .dataframe thead th {\n",
              "        text-align: right;\n",
              "    }\n",
              "</style>\n",
              "<table border=\"1\" class=\"dataframe\">\n",
              "  <thead>\n",
              "    <tr style=\"text-align: right;\">\n",
              "      <th></th>\n",
              "      <th>PROD_CD</th>\n",
              "      <th>SLSMAN_CD</th>\n",
              "      <th>PLAN_MONTH</th>\n",
              "      <th>TARGET_IN_EA</th>\n",
              "      <th>ACH_IN_EA</th>\n",
              "    </tr>\n",
              "  </thead>\n",
              "  <tbody>\n",
              "    <tr>\n",
              "      <th>PROD_CD</th>\n",
              "      <td>1.000000</td>\n",
              "      <td>0.007582</td>\n",
              "      <td>0.067888</td>\n",
              "      <td>-0.097324</td>\n",
              "      <td>-0.073687</td>\n",
              "    </tr>\n",
              "    <tr>\n",
              "      <th>SLSMAN_CD</th>\n",
              "      <td>0.007582</td>\n",
              "      <td>1.000000</td>\n",
              "      <td>0.002923</td>\n",
              "      <td>0.010748</td>\n",
              "      <td>0.015662</td>\n",
              "    </tr>\n",
              "    <tr>\n",
              "      <th>PLAN_MONTH</th>\n",
              "      <td>0.067888</td>\n",
              "      <td>0.002923</td>\n",
              "      <td>1.000000</td>\n",
              "      <td>-0.030547</td>\n",
              "      <td>-0.024380</td>\n",
              "    </tr>\n",
              "    <tr>\n",
              "      <th>TARGET_IN_EA</th>\n",
              "      <td>-0.097324</td>\n",
              "      <td>0.010748</td>\n",
              "      <td>-0.030547</td>\n",
              "      <td>1.000000</td>\n",
              "      <td>0.880425</td>\n",
              "    </tr>\n",
              "    <tr>\n",
              "      <th>ACH_IN_EA</th>\n",
              "      <td>-0.073687</td>\n",
              "      <td>0.015662</td>\n",
              "      <td>-0.024380</td>\n",
              "      <td>0.880425</td>\n",
              "      <td>1.000000</td>\n",
              "    </tr>\n",
              "  </tbody>\n",
              "</table>\n",
              "</div>"
            ],
            "text/plain": [
              "               PROD_CD  SLSMAN_CD  PLAN_MONTH  TARGET_IN_EA  ACH_IN_EA\n",
              "PROD_CD       1.000000   0.007582    0.067888     -0.097324  -0.073687\n",
              "SLSMAN_CD     0.007582   1.000000    0.002923      0.010748   0.015662\n",
              "PLAN_MONTH    0.067888   0.002923    1.000000     -0.030547  -0.024380\n",
              "TARGET_IN_EA -0.097324   0.010748   -0.030547      1.000000   0.880425\n",
              "ACH_IN_EA    -0.073687   0.015662   -0.024380      0.880425   1.000000"
            ]
          },
          "metadata": {
            "tags": []
          },
          "execution_count": 10
        }
      ]
    },
    {
      "cell_type": "markdown",
      "metadata": {
        "id": "gAHdPOgtWcGd"
      },
      "source": [
        "Applying normalization"
      ]
    },
    {
      "cell_type": "code",
      "metadata": {
        "id": "rekAlJ9SXOMi"
      },
      "source": [
        "\"\"\"def norm_fun(i):\n",
        "    x=(i-i.min())/(i.max()-(i.min()))\n",
        "    return(x)\"\"\""
      ],
      "execution_count": null,
      "outputs": []
    },
    {
      "cell_type": "code",
      "metadata": {
        "id": "uIpNoqsZXTud"
      },
      "source": [
        "\"\"\"predictor=norm_fun(end.iloc[:,0:4])\n",
        "target=norm_fun(pd.DataFrame(end.iloc[:,4]))\"\"\""
      ],
      "execution_count": null,
      "outputs": []
    },
    {
      "cell_type": "markdown",
      "metadata": {
        "id": "GxH4S5RpOlCe"
      },
      "source": [
        ""
      ]
    },
    {
      "cell_type": "markdown",
      "metadata": {
        "id": "EC6egHwaOIQt"
      },
      "source": [
        "Splitting the input variables in a dataframe called predictor and splitting the output variable in a dataframe called output "
      ]
    },
    {
      "cell_type": "code",
      "metadata": {
        "id": "KHPW7HdoxZT6"
      },
      "source": [
        "predictor=end.iloc[:,0:4]\n",
        "target=pd.DataFrame(end.iloc[:,4])"
      ],
      "execution_count": null,
      "outputs": []
    },
    {
      "cell_type": "markdown",
      "metadata": {
        "id": "oAvsmtBxZhjL"
      },
      "source": [
        "SPLITTNG THE DATA'S"
      ]
    },
    {
      "cell_type": "code",
      "metadata": {
        "id": "2rrAu5Q0XkgC"
      },
      "source": [
        "Xtrain,Xtest,Ytrain,Ytest=train_test_split(predictor,target,test_size=0.2,random_state=0)"
      ],
      "execution_count": null,
      "outputs": []
    },
    {
      "cell_type": "markdown",
      "metadata": {
        "id": "81AofrFVW0HL"
      },
      "source": [
        "MODEL BUILDING USING RANDOMIZED SEARCH CV"
      ]
    },
    {
      "cell_type": "code",
      "metadata": {
        "id": "EGXyR0lp2ZGo"
      },
      "source": [
        "from sklearn.ensemble import RandomForestRegressor\n",
        "from sklearn.model_selection import RandomizedSearchCV"
      ],
      "execution_count": null,
      "outputs": []
    },
    {
      "cell_type": "markdown",
      "metadata": {
        "id": "dnJ1OKdpW-gZ"
      },
      "source": [
        "HYPER PARAMETERS"
      ]
    },
    {
      "cell_type": "code",
      "metadata": {
        "id": "6v3x2XaB218Q"
      },
      "source": [
        "n_estimators = [int(x) for x in np.linspace(start = 200, stop = 2000, num = 10)]\n",
        "max_features = ['auto', 'sqrt']\n",
        "max_depth = [int(x) for x in np.linspace(10, 110, num = 11)]\n",
        "max_depth.append(None)\n",
        "min_samples_split = [2, 5, 10]\n",
        "min_samples_leaf = [1, 2, 4]\n",
        "bootstrap = [True, False]\n",
        "random_grid = {'n_estimators': n_estimators,\n",
        "               'max_features': max_features,\n",
        "               'max_depth': max_depth,\n",
        "               'min_samples_split': min_samples_split,\n",
        "               'min_samples_leaf': min_samples_leaf,\n",
        "               'bootstrap': bootstrap}"
      ],
      "execution_count": null,
      "outputs": []
    },
    {
      "cell_type": "markdown",
      "metadata": {
        "id": "IuiWrfSqXF92"
      },
      "source": [
        "RANDOM FOREST REGRESSOR"
      ]
    },
    {
      "cell_type": "code",
      "metadata": {
        "id": "eqoTWAKc24VA"
      },
      "source": [
        "rf = RandomForestRegressor()\n"
      ],
      "execution_count": null,
      "outputs": []
    },
    {
      "cell_type": "markdown",
      "metadata": {
        "id": "uw2hqbZdXKrF"
      },
      "source": [
        "ADDING THE HYPER PARAMETERS AND RANDOM FOREST REGRESSOR IN RANDOMIZED SEARCH CV"
      ]
    },
    {
      "cell_type": "code",
      "metadata": {
        "id": "dXjWASWd26h8"
      },
      "source": [
        "rf_random = RandomizedSearchCV(estimator = rf, param_distributions = random_grid, n_iter = 100, cv = 3, verbose=2, random_state=42, n_jobs = -1)"
      ],
      "execution_count": null,
      "outputs": []
    },
    {
      "cell_type": "markdown",
      "metadata": {
        "id": "Bl4g_x08ZSVX"
      },
      "source": [
        "TRAINING THE MODEL(FITTING)"
      ]
    },
    {
      "cell_type": "code",
      "metadata": {
        "id": "LnaSYrFQ6a7k",
        "outputId": "d9c4b2ce-f3b5-48e0-c6c7-1f1fe4cf362f",
        "colab": {
          "base_uri": "https://localhost:8080/",
          "height": 676
        }
      },
      "source": [
        "rf_random.fit(Xtrain,Ytrain)"
      ],
      "execution_count": null,
      "outputs": [
        {
          "output_type": "stream",
          "text": [
            "Fitting 3 folds for each of 100 candidates, totalling 300 fits\n"
          ],
          "name": "stdout"
        },
        {
          "output_type": "stream",
          "text": [
            "[Parallel(n_jobs=-1)]: Using backend LokyBackend with 2 concurrent workers.\n",
            "/usr/local/lib/python3.6/dist-packages/joblib/externals/loky/process_executor.py:691: UserWarning: A worker stopped while some jobs were given to the executor. This can be caused by a too short worker timeout or by a memory leak.\n",
            "  \"timeout or by a memory leak.\", UserWarning\n",
            "[Parallel(n_jobs=-1)]: Done  37 tasks      | elapsed: 11.2min\n",
            "[Parallel(n_jobs=-1)]: Done 158 tasks      | elapsed: 50.7min\n",
            "[Parallel(n_jobs=-1)]: Done 300 out of 300 | elapsed: 92.2min finished\n",
            "/usr/local/lib/python3.6/dist-packages/sklearn/model_selection/_search.py:739: DataConversionWarning: A column-vector y was passed when a 1d array was expected. Please change the shape of y to (n_samples,), for example using ravel().\n",
            "  self.best_estimator_.fit(X, y, **fit_params)\n"
          ],
          "name": "stderr"
        },
        {
          "output_type": "execute_result",
          "data": {
            "text/plain": [
              "RandomizedSearchCV(cv=3, error_score=nan,\n",
              "                   estimator=RandomForestRegressor(bootstrap=True,\n",
              "                                                   ccp_alpha=0.0,\n",
              "                                                   criterion='mse',\n",
              "                                                   max_depth=None,\n",
              "                                                   max_features='auto',\n",
              "                                                   max_leaf_nodes=None,\n",
              "                                                   max_samples=None,\n",
              "                                                   min_impurity_decrease=0.0,\n",
              "                                                   min_impurity_split=None,\n",
              "                                                   min_samples_leaf=1,\n",
              "                                                   min_samples_split=2,\n",
              "                                                   min_weight_fraction_leaf=0.0,\n",
              "                                                   n_estimators=100,\n",
              "                                                   n_jobs=None, oob_score=Fals...\n",
              "                   param_distributions={'bootstrap': [True, False],\n",
              "                                        'max_depth': [10, 20, 30, 40, 50, 60,\n",
              "                                                      70, 80, 90, 100, 110,\n",
              "                                                      None],\n",
              "                                        'max_features': ['auto', 'sqrt'],\n",
              "                                        'min_samples_leaf': [1, 2, 4],\n",
              "                                        'min_samples_split': [2, 5, 10],\n",
              "                                        'n_estimators': [200, 400, 600, 800,\n",
              "                                                         1000, 1200, 1400, 1600,\n",
              "                                                         1800, 2000]},\n",
              "                   pre_dispatch='2*n_jobs', random_state=42, refit=True,\n",
              "                   return_train_score=False, scoring=None, verbose=2)"
            ]
          },
          "metadata": {
            "tags": []
          },
          "execution_count": 29
        }
      ]
    },
    {
      "cell_type": "markdown",
      "metadata": {
        "id": "n044y3-6ZaMC"
      },
      "source": [
        "CHECKING THE SCORE FOR TRAIN AND TEST"
      ]
    },
    {
      "cell_type": "markdown",
      "metadata": {
        "id": "UnYN0RtIZl5T"
      },
      "source": [
        "Train score"
      ]
    },
    {
      "cell_type": "code",
      "metadata": {
        "id": "lSg231X6Zf0j",
        "outputId": "1eda6de1-8f11-4df0-f280-705bbfe9b635",
        "colab": {
          "base_uri": "https://localhost:8080/",
          "height": 34
        }
      },
      "source": [
        "rf_random.score(Xtrain,Ytrain)"
      ],
      "execution_count": null,
      "outputs": [
        {
          "output_type": "execute_result",
          "data": {
            "text/plain": [
              "0.9792913460098631"
            ]
          },
          "metadata": {
            "tags": []
          },
          "execution_count": 30
        }
      ]
    },
    {
      "cell_type": "markdown",
      "metadata": {
        "id": "9ieHzY8EZphG"
      },
      "source": [
        "Test score"
      ]
    },
    {
      "cell_type": "code",
      "metadata": {
        "id": "8MbR3nTA29TG",
        "outputId": "df2ba11b-a6ef-482b-ed75-7db36f75f3bd",
        "colab": {
          "base_uri": "https://localhost:8080/",
          "height": 34
        }
      },
      "source": [
        "rf_random.score(Xtest,Ytest)"
      ],
      "execution_count": null,
      "outputs": [
        {
          "output_type": "execute_result",
          "data": {
            "text/plain": [
              "0.9010418240664319"
            ]
          },
          "metadata": {
            "tags": []
          },
          "execution_count": 31
        }
      ]
    },
    {
      "cell_type": "markdown",
      "metadata": {
        "id": "-egcU_veZ1oS"
      },
      "source": [
        "Prediction"
      ]
    },
    {
      "cell_type": "code",
      "metadata": {
        "id": "zuLjRAVbaA51"
      },
      "source": [
        "predicted=rf_random.predict(Xtest)"
      ],
      "execution_count": null,
      "outputs": []
    },
    {
      "cell_type": "markdown",
      "metadata": {
        "id": "x3ymsylpwtzs"
      },
      "source": [
        "MODEL EVALUATION"
      ]
    },
    {
      "cell_type": "markdown",
      "metadata": {
        "id": "3bYNJM4YaQVe"
      },
      "source": [
        "R^2 VALUE"
      ]
    },
    {
      "cell_type": "code",
      "metadata": {
        "id": "QsL4qqmL2-1j",
        "outputId": "5fe77ff8-ca8c-4e07-c7f1-bfd4c4b331ea",
        "colab": {
          "base_uri": "https://localhost:8080/",
          "height": 34
        }
      },
      "source": [
        "R2_value=r2_score(Ytest,predicted)\n",
        "print(R2_value)"
      ],
      "execution_count": null,
      "outputs": [
        {
          "output_type": "stream",
          "text": [
            "0.9010418240664317\n"
          ],
          "name": "stdout"
        }
      ]
    },
    {
      "cell_type": "markdown",
      "metadata": {
        "id": "XXGhDLN5wwWC"
      },
      "source": [
        "RMSE"
      ]
    },
    {
      "cell_type": "code",
      "metadata": {
        "id": "ix-ablGTwTiZ",
        "outputId": "a7923bbe-4ec1-46b6-fe9f-1e285f642eb7",
        "colab": {
          "base_uri": "https://localhost:8080/",
          "height": 34
        }
      },
      "source": [
        "Rmse = (np.sqrt(mean_squared_error(Ytest, predicted)))\n",
        "print(Rmse)"
      ],
      "execution_count": null,
      "outputs": [
        {
          "output_type": "stream",
          "text": [
            "2829.2753553891707\n"
          ],
          "name": "stdout"
        }
      ]
    },
    {
      "cell_type": "markdown",
      "metadata": {
        "id": "5bySlieWyOkF"
      },
      "source": [
        "MSE"
      ]
    },
    {
      "cell_type": "code",
      "metadata": {
        "id": "4IMEkl1wwjdv",
        "outputId": "9eb63e5c-1ec0-4e6b-b940-40537962ecae",
        "colab": {
          "base_uri": "https://localhost:8080/",
          "height": 34
        }
      },
      "source": [
        "metrics.mean_squared_error(Ytest,predicted)"
      ],
      "execution_count": null,
      "outputs": [
        {
          "output_type": "execute_result",
          "data": {
            "text/plain": [
              "8004799.036612517"
            ]
          },
          "metadata": {
            "tags": []
          },
          "execution_count": 35
        }
      ]
    },
    {
      "cell_type": "markdown",
      "metadata": {
        "id": "dNyyyPADyQZ5"
      },
      "source": [
        "MEAN ABSOLUTE ERROR"
      ]
    },
    {
      "cell_type": "code",
      "metadata": {
        "id": "KZh5e68_wse-",
        "outputId": "f514252a-ce51-41b2-fb05-bdc662b5d7b4",
        "colab": {
          "base_uri": "https://localhost:8080/",
          "height": 34
        }
      },
      "source": [
        "metrics.mean_absolute_error(Ytest,predicted)"
      ],
      "execution_count": null,
      "outputs": [
        {
          "output_type": "execute_result",
          "data": {
            "text/plain": [
              "956.9937003683842"
            ]
          },
          "metadata": {
            "tags": []
          },
          "execution_count": 36
        }
      ]
    },
    {
      "cell_type": "markdown",
      "metadata": {
        "id": "lDc8uGNEy5xb"
      },
      "source": [
        "SCATTER PLOT FOR PEDICTED VALUE V/S ACTUAL"
      ]
    },
    {
      "cell_type": "code",
      "metadata": {
        "id": "GQ0cJqZixtMj",
        "outputId": "da620d80-af9a-491b-df35-59495294f8b8",
        "colab": {
          "base_uri": "https://localhost:8080/",
          "height": 284
        }
      },
      "source": [
        "import matplotlib.pyplot as plt \n",
        "plt.scatter(Ytest,predicted)"
      ],
      "execution_count": null,
      "outputs": [
        {
          "output_type": "execute_result",
          "data": {
            "text/plain": [
              "<matplotlib.collections.PathCollection at 0x7fd38065ec88>"
            ]
          },
          "metadata": {
            "tags": []
          },
          "execution_count": 37
        },
        {
          "output_type": "display_data",
          "data": {
            "image/png": "[encoded data removed]",
            "text/plain": [
              "<Figure size 432x288 with 1 Axes>"
            ]
          },
          "metadata": {
            "tags": [],
            "needs_background": "light"
          }
        }
      ]
    },
    {
      "cell_type": "markdown",
      "metadata": {
        "id": "iZM8OlcEafT8"
      },
      "source": [
        "Creating a list for all salesman"
      ]
    },
    {
      "cell_type": "code",
      "metadata": {
        "id": "1kV3OWNwYn8X"
      },
      "source": [
        "salesman=['SLSMAN_1', 'SLSMAN_2', 'SLSMAN_3', 'SLSMAN_4', 'SLSMAN_5',\n",
        "       'SLSMAN_6', 'SLSMAN_7', 'SLSMAN_8', 'SLSMAN_9', 'SLSMAN_10',\n",
        "       'SLSMAN_11', 'SLSMAN_12', 'SLSMAN_13', 'SLSMAN_14', 'SLSMAN_15',\n",
        "       'SLSMAN_16', 'SLSMAN_17', 'SLSMAN_18', 'SLSMAN_19', 'SLSMAN_20',\n",
        "       'SLSMAN_21', 'SLSMAN_22', 'SLSMAN_23', 'SLSMAN_24', 'SLSMAN_25',\n",
        "       'SLSMAN_26', 'SLSMAN_27', 'SLSMAN_28', 'SLSMAN_29', 'SLSMAN_30',\n",
        "       'SLSMAN_31', 'SLSMAN_32', 'SLSMAN_33', 'SLSMAN_34', 'SLSMAN_35',\n",
        "       'SLSMAN_36', 'SLSMAN_37', 'SLSMAN_38', 'SLSMAN_39', 'SLSMAN_40',\n",
        "       'SLSMAN_41', 'SLSMAN_42', 'SLSMAN_43', 'SLSMAN_44', 'SLSMAN_45',\n",
        "       'SLSMAN_46', 'SLSMAN_47', 'SLSMAN_48', 'SLSMAN_49', 'SLSMAN_50',\n",
        "       'SLSMAN_51', 'SLSMAN_52', 'SLSMAN_53', 'SLSMAN_54', 'SLSMAN_55',\n",
        "       'SLSMAN_56', 'SLSMAN_57', 'SLSMAN_58', 'SLSMAN_59', 'SLSMAN_60',\n",
        "       'SLSMAN_61', 'SLSMAN_62', 'SLSMAN_63', 'SLSMAN_64', 'SLSMAN_65',\n",
        "       'SLSMAN_66', 'SLSMAN_67', 'SLSMAN_68', 'SLSMAN_69', 'SLSMAN_70',\n",
        "       'SLSMAN_71', 'SLSMAN_73', 'SLSMAN_74', 'SLSMAN_75', 'SLSMAN_76',\n",
        "       'SLSMAN_77', 'SLSMAN_78', 'SLSMAN_79', 'SLSMAN_80', 'SLSMAN_81',\n",
        "       'SLSMAN_82', 'SLSMAN_83', 'SLSMAN_84', 'SLSMAN_85', 'SLSMAN_86',\n",
        "       'SLSMAN_87', 'SLSMAN_88', 'SLSMAN_89', 'SLSMAN_90', 'SLSMAN_91',\n",
        "       'SLSMAN_92', 'SLSMAN_93', 'SLSMAN_94', 'SLSMAN_95', 'SLSMAN_96',\n",
        "       'SLSMAN_97', 'SLSMAN_98', 'SLSMAN_99', 'SLSMAN_100', 'SLSMAN_101',\n",
        "       'SLSMAN_102', 'SLSMAN_103', 'SLSMAN_104', 'SLSMAN_105',\n",
        "       'SLSMAN_106', 'SLSMAN_107', 'SLSMAN_108', 'SLSMAN_109',\n",
        "       'SLSMAN_110', 'SLSMAN_111', 'SLSMAN_112', 'SLSMAN_113',\n",
        "       'SLSMAN_114', 'SLSMAN_115', 'SLSMAN_116', 'SLSMAN_117',\n",
        "       'SLSMAN_118', 'SLSMAN_119', 'SLSMAN_120', 'SLSMAN_121',\n",
        "       'SLSMAN_122', 'SLSMAN_123', 'SLSMAN_124', 'SLSMAN_125',\n",
        "       'SLSMAN_126', 'SLSMAN_127', 'SLSMAN_128', 'SLSMAN_129',\n",
        "       'SLSMAN_130', 'SLSMAN_131', 'SLSMAN_132', 'SLSMAN_133',\n",
        "       'SLSMAN_134', 'SLSMAN_135', 'SLSMAN_136', 'SLSMAN_137',\n",
        "       'SLSMAN_138', 'SLSMAN_139', 'SLSMAN_140', 'SLSMAN_141',\n",
        "       'SLSMAN_142', 'SLSMAN_143', 'SLSMAN_144', 'SLSMAN_145',\n",
        "       'SLSMAN_146', 'SLSMAN_147', 'SLSMAN_148', 'SLSMAN_149',\n",
        "       'SLSMAN_150', 'SLSMAN_151', 'SLSMAN_152', 'SLSMAN_153',\n",
        "       'SLSMAN_154', 'SLSMAN_155', 'SLSMAN_156', 'SLSMAN_157',\n",
        "       'SLSMAN_158', 'SLSMAN_159', 'SLSMAN_160', 'SLSMAN_161',\n",
        "       'SLSMAN_162', 'SLSMAN_163', 'SLSMAN_164', 'SLSMAN_165',\n",
        "       'SLSMAN_166', 'SLSMAN_167', 'SLSMAN_168', 'SLSMAN_169',\n",
        "       'SLSMAN_170', 'SLSMAN_171', 'SLSMAN_172', 'SLSMAN_173',\n",
        "       'SLSMAN_174', 'SLSMAN_175', 'SLSMAN_176', 'SLSMAN_177',\n",
        "       'SLSMAN_178', 'SLSMAN_179', 'SLSMAN_180', 'SLSMAN_181',\n",
        "       'SLSMAN_182', 'SLSMAN_183', 'SLSMAN_184', 'SLSMAN_185',\n",
        "       'SLSMAN_186', 'SLSMAN_187', 'SLSMAN_188', 'SLSMAN_189',\n",
        "       'SLSMAN_190', 'SLSMAN_191', 'SLSMAN_192', 'SLSMAN_193',\n",
        "       'SLSMAN_194', 'SLSMAN_195', 'SLSMAN_196', 'SLSMAN_197',\n",
        "       'SLSMAN_198', 'SLSMAN_199', 'SLSMAN_200', 'SLSMAN_201',\n",
        "       'SLSMAN_202', 'SLSMAN_203', 'SLSMAN_204', 'SLSMAN_205',\n",
        "       'SLSMAN_206', 'SLSMAN_207', 'SLSMAN_208', 'SLSMAN_209',\n",
        "       'SLSMAN_210', 'SLSMAN_211', 'SLSMAN_212', 'SLSMAN_213',\n",
        "       'SLSMAN_214', 'SLSMAN_215', 'SLSMAN_216', 'SLSMAN_217',\n",
        "       'SLSMAN_218', 'SLSMAN_219', 'SLSMAN_220', 'SLSMAN_221',\n",
        "       'SLSMAN_222', 'SLSMAN_223', 'SLSMAN_224', 'SLSMAN_225']"
      ],
      "execution_count": null,
      "outputs": []
    },
    {
      "cell_type": "markdown",
      "metadata": {
        "id": "AH5YO63-aoLP"
      },
      "source": [
        "Creating a list for all products"
      ]
    },
    {
      "cell_type": "code",
      "metadata": {
        "id": "ALcK7vPDYg_w"
      },
      "source": [
        "product=['PROD_3', 'PROD_5', 'PROD_8', 'PROD_10', 'PROD_11', 'PROD_13',\n",
        "       'PROD_14', 'PROD_15', 'PROD_16', 'PROD_17', 'PROD_18', 'PROD_19',\n",
        "       'PROD_21', 'PROD_22', 'PROD_23', 'PROD_25', 'PROD_26', 'PROD_27',\n",
        "       'PROD_31', 'PROD_32', 'PROD_33', 'PROD_35', 'PROD_36', 'PROD_37',\n",
        "       'PROD_38', 'PROD_39', 'PROD_42', 'PROD_43', 'PROD_45', 'PROD_47',\n",
        "       'PROD_48', 'PROD_50', 'PROD_51', 'PROD_56', 'PROD_58', 'PROD_59',\n",
        "       'PROD_61', 'PROD_62', 'PROD_66', 'PROD_74', 'PROD_76', 'PROD_80',\n",
        "       'PROD_81', 'PROD_82', 'PROD_83', 'PROD_84', 'PROD_85', 'PROD_86',\n",
        "       'PROD_49', 'PROD_9', 'PROD_12', 'PROD_53', 'PROD_55', 'PROD_57',\n",
        "       'PROD_63', 'PROD_64', 'PROD_4', 'PROD_20', 'PROD_28', 'PROD_54',\n",
        "       'PROD_67', 'PROD_52', 'PROD_68', 'PROD_2', 'PROD_46', 'PROD_70',\n",
        "       'PROD_75', 'PROD_73', 'PROD_40', 'PROD_71', 'PROD_24', 'PROD_34',\n",
        "       'PROD_44', 'PROD_41', 'PROD_65', 'PROD_77', 'PROD_79', 'PROD_69',\n",
        "       'PROD_72', 'PROD_1', 'PROD_78', 'PROD_60', 'PROD_29', 'PROD_6',\n",
        "       'PROD_7', 'PROD_30']"
      ],
      "execution_count": null,
      "outputs": []
    },
    {
      "cell_type": "markdown",
      "metadata": {
        "id": "giUp5hila2DM"
      },
      "source": [
        "Creating an array for predicting the achievement for a particular salesman"
      ]
    },
    {
      "cell_type": "code",
      "metadata": {
        "id": "1meKUOvFiwUC"
      },
      "source": [
        "def predict_achievment(PROD ,SLSMAN ,PLAN_MONTH,TARGET_IN_EA):\n",
        "  PROD_CD = product.index(PROD)\n",
        "  SLSMAN_CD= salesman.index(SLSMAN)\n",
        "  x= np.zeros(len(predictor.columns))\n",
        "  x[0]= PROD_CD\n",
        "  x[1]= SLSMAN_CD\n",
        "  x[2]=PLAN_MONTH\n",
        "  x[3]=TARGET_IN_EA\n",
        "  #x= norm_fun(x)\n",
        "  print(x)\n",
        "  pred=rf_random.predict([x])[0]\n",
        "  return pred\n"
      ],
      "execution_count": null,
      "outputs": []
    },
    {
      "cell_type": "code",
      "metadata": {
        "id": "hcvLYrQFi1zg",
        "outputId": "d3b76725-0010-45b5-a7e4-b8f7f0528335",
        "colab": {
          "base_uri": "https://localhost:8080/",
          "height": 52
        }
      },
      "source": [
        "predict_achievment(\"PROD_15\",\"SLSMAN_1\",10,16260)\n"
      ],
      "execution_count": null,
      "outputs": [
        {
          "output_type": "stream",
          "text": [
            "[7.000e+00 0.000e+00 1.000e+01 1.626e+04]\n"
          ],
          "name": "stdout"
        },
        {
          "output_type": "execute_result",
          "data": {
            "text/plain": [
              "15356.907358541943"
            ]
          },
          "metadata": {
            "tags": []
          },
          "execution_count": 51
        }
      ]
    },
    {
      "cell_type": "markdown",
      "metadata": {
        "id": "DiyZf2axbKKk"
      },
      "source": [
        "Saving the Model"
      ]
    },
    {
      "cell_type": "code",
      "metadata": {
        "id": "iXwHK5rEjTSM"
      },
      "source": [
        "import pickle\n"
      ],
      "execution_count": null,
      "outputs": []
    },
    {
      "cell_type": "code",
      "metadata": {
        "id": "kXcfcIviIuIj"
      },
      "source": [
        "# Save the Modle to file in the current working directory\n",
        "Model = \"Random.pkl\"  \n",
        "with open(Model, 'wb') as file:  \n",
        "    pickle.dump(rf_random, file)"
      ],
      "execution_count": null,
      "outputs": []
    },
    {
      "cell_type": "code",
      "metadata": {
        "id": "8EIuVSkQJKTy",
        "outputId": "ebf319bb-4d45-45d1-eb80-c793df8d21d0",
        "colab": {
          "base_uri": "https://localhost:8080/",
          "height": 496
        }
      },
      "source": [
        "# Load the Model back from file\n",
        "with open(Model, 'rb') as file:  \n",
        "    Target_Model = pickle.load(file)\n",
        "\n",
        "Target_Model"
      ],
      "execution_count": null,
      "outputs": [
        {
          "output_type": "execute_result",
          "data": {
            "text/plain": [
              "RandomizedSearchCV(cv=3, error_score=nan,\n",
              "                   estimator=RandomForestRegressor(bootstrap=True,\n",
              "                                                   ccp_alpha=0.0,\n",
              "                                                   criterion='mse',\n",
              "                                                   max_depth=None,\n",
              "                                                   max_features='auto',\n",
              "                                                   max_leaf_nodes=None,\n",
              "                                                   max_samples=None,\n",
              "                                                   min_impurity_decrease=0.0,\n",
              "                                                   min_impurity_split=None,\n",
              "                                                   min_samples_leaf=1,\n",
              "                                                   min_samples_split=2,\n",
              "                                                   min_weight_fraction_leaf=0.0,\n",
              "                                                   n_estimators=100,\n",
              "                                                   n_jobs=None, oob_score=Fals...\n",
              "                   param_distributions={'bootstrap': [True, False],\n",
              "                                        'max_depth': [10, 20, 30, 40, 50, 60,\n",
              "                                                      70, 80, 90, 100, 110,\n",
              "                                                      None],\n",
              "                                        'max_features': ['auto', 'sqrt'],\n",
              "                                        'min_samples_leaf': [1, 2, 4],\n",
              "                                        'min_samples_split': [2, 5, 10],\n",
              "                                        'n_estimators': [200, 400, 600, 800,\n",
              "                                                         1000, 1200, 1400, 1600,\n",
              "                                                         1800, 2000]},\n",
              "                   pre_dispatch='2*n_jobs', random_state=42, refit=True,\n",
              "                   return_train_score=False, scoring=None, verbose=2)"
            ]
          },
          "metadata": {
            "tags": []
          },
          "execution_count": 53
        }
      ]
    },
    {
      "cell_type": "markdown",
      "metadata": {
        "id": "wEFFB6DxbUvS"
      },
      "source": [
        "LOADING THE VALIDAION DATASET"
      ]
    },
    {
      "cell_type": "code",
      "metadata": {
        "id": "BNDXfpNBoonR",
        "outputId": "99e96e5e-40a6-4d23-badf-cbedd3b4a4a5",
        "colab": {
          "resources": {
            "http://localhost:8080/nbextensions/google.colab/files.js": {
              "data": "Ly8gQ29weXJpZ2h0IDIwMTcgR29vZ2xlIExMQwovLwovLyBMaWNlbnNlZCB1bmRlciB0aGUgQXBhY2hlIExpY2Vuc2UsIFZlcnNpb24gMi4wICh0aGUgIkxpY2Vuc2UiKTsKLy8geW91IG1heSBub3QgdXNlIHRoaXMgZmlsZSBleGNlcHQgaW4gY29tcGxpYW5jZSB3aXRoIHRoZSBMaWNlbnNlLgovLyBZb3UgbWF5IG9idGFpbiBhIGNvcHkgb2YgdGhlIExpY2Vuc2UgYXQKLy8KLy8gICAgICBodHRwOi8vd3d3LmFwYWNoZS5vcmcvbGljZW5zZXMvTElDRU5TRS0yLjAKLy8KLy8gVW5sZXNzIHJlcXVpcmVkIGJ5IGFwcGxpY2FibGUgbGF3IG9yIGFncmVlZCB0byBpbiB3cml0aW5nLCBzb2Z0d2FyZQovLyBkaXN0cmlidXRlZCB1bmRlciB0aGUgTGljZW5zZSBpcyBkaXN0cmlidXRlZCBvbiBhbiAiQVMgSVMiIEJBU0lTLAovLyBXSVRIT1VUIFdBUlJBTlRJRVMgT1IgQ09ORElUSU9OUyBPRiBBTlkgS0lORCwgZWl0aGVyIGV4cHJlc3Mgb3IgaW1wbGllZC4KLy8gU2VlIHRoZSBMaWNlbnNlIGZvciB0aGUgc3BlY2lmaWMgbGFuZ3VhZ2UgZ292ZXJuaW5nIHBlcm1pc3Npb25zIGFuZAovLyBsaW1pdGF0aW9ucyB1bmRlciB0aGUgTGljZW5zZS4KCi8qKgogKiBAZmlsZW92ZXJ2aWV3IEhlbHBlcnMgZm9yIGdvb2dsZS5jb2xhYiBQeXRob24gbW9kdWxlLgogKi8KKGZ1bmN0aW9uKHNjb3BlKSB7CmZ1bmN0aW9uIHNwYW4odGV4dCwgc3R5bGVBdHRyaWJ1dGVzID0ge30pIHsKICBjb25zdCBlbGVtZW50ID0gZG9jdW1lbnQuY3JlYXRlRWxlbWVudCgnc3BhbicpOwogIGVsZW1lbnQudGV4dENvbnRlbnQgPSB0ZXh0OwogIGZvciAoY29uc3Qga2V5IG9mIE9iamVjdC5rZXlzKHN0eWxlQXR0cmlidXRlcykpIHsKICAgIGVsZW1lbnQuc3R5bGVba2V5XSA9IHN0eWxlQXR0cmlidXRlc1trZXldOwogIH0KICByZXR1cm4gZWxlbWVudDsKfQoKLy8gTWF4IG51bWJlciBvZiBieXRlcyB3aGljaCB3aWxsIGJlIHVwbG9hZGVkIGF0IGEgdGltZS4KY29uc3QgTUFYX1BBWUxPQURfU0laRSA9IDEwMCAqIDEwMjQ7CgpmdW5jdGlvbiBfdXBsb2FkRmlsZXMoaW5wdXRJZCwgb3V0cHV0SWQpIHsKICBjb25zdCBzdGVwcyA9IHVwbG9hZEZpbGVzU3RlcChpbnB1dElkLCBvdXRwdXRJZCk7CiAgY29uc3Qgb3V0cHV0RWxlbWVudCA9IGRvY3VtZW50LmdldEVsZW1lbnRCeUlkKG91dHB1dElkKTsKICAvLyBDYWNoZSBzdGVwcyBvbiB0aGUgb3V0cHV0RWxlbWVudCB0byBtYWtlIGl0IGF2YWlsYWJsZSBmb3IgdGhlIG5leHQgY2FsbAogIC8vIHRvIHVwbG9hZEZpbGVzQ29udGludWUgZnJvbSBQeXRob24uCiAgb3V0cHV0RWxlbWVudC5zdGVwcyA9IHN0ZXBzOwoKICByZXR1cm4gX3VwbG9hZEZpbGVzQ29udGludWUob3V0cHV0SWQpOwp9CgovLyBUaGlzIGlzIHJvdWdobHkgYW4gYXN5bmMgZ2VuZXJhdG9yIChub3Qgc3VwcG9ydGVkIGluIHRoZSBicm93c2VyIHlldCksCi8vIHdoZXJlIHRoZXJlIGFyZSBtdWx0aXBsZSBhc3luY2hyb25vdXMgc3RlcHMgYW5kIHRoZSBQeXRob24gc2lkZSBpcyBnb2luZwovLyB0byBwb2xsIGZvciBjb21wbGV0aW9uIG9mIGVhY2ggc3RlcC4KLy8gVGhpcyB1c2VzIGEgUHJvbWlzZSB0byBibG9jayB0aGUgcHl0aG9uIHNpZGUgb24gY29tcGxldGlvbiBvZiBlYWNoIHN0ZXAsCi8vIHRoZW4gcGFzc2VzIHRoZSByZXN1bHQgb2YgdGhlIHByZXZpb3VzIHN0ZXAgYXMgdGhlIGlucHV0IHRvIHRoZSBuZXh0IHN0ZXAuCmZ1bmN0aW9uIF91cGxvYWRGaWxlc0NvbnRpbnVlKG91dHB1dElkKSB7CiAgY29uc3Qgb3V0cHV0RWxlbWVudCA9IGRvY3VtZW50LmdldEVsZW1lbnRCeUlkKG91dHB1dElkKTsKICBjb25zdCBzdGVwcyA9IG91dHB1dEVsZW1lbnQuc3RlcHM7CgogIGNvbnN0IG5leHQgPSBzdGVwcy5uZXh0KG91dHB1dEVsZW1lbnQubGFzdFByb21pc2VWYWx1ZSk7CiAgcmV0dXJuIFByb21pc2UucmVzb2x2ZShuZXh0LnZhbHVlLnByb21pc2UpLnRoZW4oKHZhbHVlKSA9PiB7CiAgICAvLyBDYWNoZSB0aGUgbGFzdCBwcm9taXNlIHZhbHVlIHRvIG1ha2UgaXQgYXZhaWxhYmxlIHRvIHRoZSBuZXh0CiAgICAvLyBzdGVwIG9mIHRoZSBnZW5lcmF0b3IuCiAgICBvdXRwdXRFbGVtZW50Lmxhc3RQcm9taXNlVmFsdWUgPSB2YWx1ZTsKICAgIHJldHVybiBuZXh0LnZhbHVlLnJlc3BvbnNlOwogIH0pOwp9CgovKioKICogR2VuZXJhdG9yIGZ1bmN0aW9uIHdoaWNoIGlzIGNhbGxlZCBiZXR3ZWVuIGVhY2ggYXN5bmMgc3RlcCBvZiB0aGUgdXBsb2FkCiAqIHByb2Nlc3MuCiAqIEBwYXJhbSB7c3RyaW5nfSBpbnB1dElkIEVsZW1lbnQgSUQgb2YgdGhlIGlucHV0IGZpbGUgcGlja2VyIGVsZW1lbnQuCiAqIEBwYXJhbSB7c3RyaW5nfSBvdXRwdXRJZCBFbGVtZW50IElEIG9mIHRoZSBvdXRwdXQgZGlzcGxheS4KICogQHJldHVybiB7IUl0ZXJhYmxlPCFPYmplY3Q+fSBJdGVyYWJsZSBvZiBuZXh0IHN0ZXBzLgogKi8KZnVuY3Rpb24qIHVwbG9hZEZpbGVzU3RlcChpbnB1dElkLCBvdXRwdXRJZCkgewogIGNvbnN0IGlucHV0RWxlbWVudCA9IGRvY3VtZW50LmdldEVsZW1lbnRCeUlkKGlucHV0SWQpOwogIGlucHV0RWxlbWVudC5kaXNhYmxlZCA9IGZhbHNlOwoKICBjb25zdCBvdXRwdXRFbGVtZW50ID0gZG9jdW1lbnQuZ2V0RWxlbWVudEJ5SWQob3V0cHV0SWQpOwogIG91dHB1dEVsZW1lbnQuaW5uZXJIVE1MID0gJyc7CgogIGNvbnN0IHBpY2tlZFByb21pc2UgPSBuZXcgUHJvbWlzZSgocmVzb2x2ZSkgPT4gewogICAgaW5wdXRFbGVtZW50LmFkZEV2ZW50TGlzdGVuZXIoJ2NoYW5nZScsIChlKSA9PiB7CiAgICAgIHJlc29sdmUoZS50YXJnZXQuZmlsZXMpOwogICAgfSk7CiAgfSk7CgogIGNvbnN0IGNhbmNlbCA9IGRvY3VtZW50LmNyZWF0ZUVsZW1lbnQoJ2J1dHRvbicpOwogIGlucHV0RWxlbWVudC5wYXJlbnRFbGVtZW50LmFwcGVuZENoaWxkKGNhbmNlbCk7CiAgY2FuY2VsLnRleHRDb250ZW50ID0gJ0NhbmNlbCB1cGxvYWQnOwogIGNvbnN0IGNhbmNlbFByb21pc2UgPSBuZXcgUHJvbWlzZSgocmVzb2x2ZSkgPT4gewogICAgY2FuY2VsLm9uY2xpY2sgPSAoKSA9PiB7CiAgICAgIHJlc29sdmUobnVsbCk7CiAgICB9OwogIH0pOwoKICAvLyBXYWl0IGZvciB0aGUgdXNlciB0byBwaWNrIHRoZSBmaWxlcy4KICBjb25zdCBmaWxlcyA9IHlpZWxkIHsKICAgIHByb21pc2U6IFByb21pc2UucmFjZShbcGlja2VkUHJvbWlzZSwgY2FuY2VsUHJvbWlzZV0pLAogICAgcmVzcG9uc2U6IHsKICAgICAgYWN0aW9uOiAnc3RhcnRpbmcnLAogICAgfQogIH07CgogIGNhbmNlbC5yZW1vdmUoKTsKCiAgLy8gRGlzYWJsZSB0aGUgaW5wdXQgZWxlbWVudCBzaW5jZSBmdXJ0aGVyIHBpY2tzIGFyZSBub3QgYWxsb3dlZC4KICBpbnB1dEVsZW1lbnQuZGlzYWJsZWQgPSB0cnVlOwoKICBpZiAoIWZpbGVzKSB7CiAgICByZXR1cm4gewogICAgICByZXNwb25zZTogewogICAgICAgIGFjdGlvbjogJ2NvbXBsZXRlJywKICAgICAgfQogICAgfTsKICB9CgogIGZvciAoY29uc3QgZmlsZSBvZiBmaWxlcykgewogICAgY29uc3QgbGkgPSBkb2N1bWVudC5jcmVhdGVFbGVtZW50KCdsaScpOwogICAgbGkuYXBwZW5kKHNwYW4oZmlsZS5uYW1lLCB7Zm9udFdlaWdodDogJ2JvbGQnfSkpOwogICAgbGkuYXBwZW5kKHNwYW4oCiAgICAgICAgYCgke2ZpbGUudHlwZSB8fCAnbi9hJ30pIC0gJHtmaWxlLnNpemV9IGJ5dGVzLCBgICsKICAgICAgICBgbGFzdCBtb2RpZmllZDogJHsKICAgICAgICAgICAgZmlsZS5sYXN0TW9kaWZpZWREYXRlID8gZmlsZS5sYXN0TW9kaWZpZWREYXRlLnRvTG9jYWxlRGF0ZVN0cmluZygpIDoKICAgICAgICAgICAgICAgICAgICAgICAgICAgICAgICAgICAgJ24vYSd9IC0gYCkpOwogICAgY29uc3QgcGVyY2VudCA9IHNwYW4oJzAlIGRvbmUnKTsKICAgIGxpLmFwcGVuZENoaWxkKHBlcmNlbnQpOwoKICAgIG91dHB1dEVsZW1lbnQuYXBwZW5kQ2hpbGQobGkpOwoKICAgIGNvbnN0IGZpbGVEYXRhUHJvbWlzZSA9IG5ldyBQcm9taXNlKChyZXNvbHZlKSA9PiB7CiAgICAgIGNvbnN0IHJlYWRlciA9IG5ldyBGaWxlUmVhZGVyKCk7CiAgICAgIHJlYWRlci5vbmxvYWQgPSAoZSkgPT4gewogICAgICAgIHJlc29sdmUoZS50YXJnZXQucmVzdWx0KTsKICAgICAgfTsKICAgICAgcmVhZGVyLnJlYWRBc0FycmF5QnVmZmVyKGZpbGUpOwogICAgfSk7CiAgICAvLyBXYWl0IGZvciB0aGUgZGF0YSB0byBiZSByZWFkeS4KICAgIGxldCBmaWxlRGF0YSA9IHlpZWxkIHsKICAgICAgcHJvbWlzZTogZmlsZURhdGFQcm9taXNlLAogICAgICByZXNwb25zZTogewogICAgICAgIGFjdGlvbjogJ2NvbnRpbnVlJywKICAgICAgfQogICAgfTsKCiAgICAvLyBVc2UgYSBjaHVua2VkIHNlbmRpbmcgdG8gYXZvaWQgbWVzc2FnZSBzaXplIGxpbWl0cy4gU2VlIGIvNjIxMTU2NjAuCiAgICBsZXQgcG9zaXRpb24gPSAwOwogICAgd2hpbGUgKHBvc2l0aW9uIDwgZmlsZURhdGEuYnl0ZUxlbmd0aCkgewogICAgICBjb25zdCBsZW5ndGggPSBNYXRoLm1pbihmaWxlRGF0YS5ieXRlTGVuZ3RoIC0gcG9zaXRpb24sIE1BWF9QQVlMT0FEX1NJWkUpOwogICAgICBjb25zdCBjaHVuayA9IG5ldyBVaW50OEFycmF5KGZpbGVEYXRhLCBwb3NpdGlvbiwgbGVuZ3RoKTsKICAgICAgcG9zaXRpb24gKz0gbGVuZ3RoOwoKICAgICAgY29uc3QgYmFzZTY0ID0gYnRvYShTdHJpbmcuZnJvbUNoYXJDb2RlLmFwcGx5KG51bGwsIGNodW5rKSk7CiAgICAgIHlpZWxkIHsKICAgICAgICByZXNwb25zZTogewogICAgICAgICAgYWN0aW9uOiAnYXBwZW5kJywKICAgICAgICAgIGZpbGU6IGZpbGUubmFtZSwKICAgICAgICAgIGRhdGE6IGJhc2U2NCwKICAgICAgICB9LAogICAgICB9OwogICAgICBwZXJjZW50LnRleHRDb250ZW50ID0KICAgICAgICAgIGAke01hdGgucm91bmQoKHBvc2l0aW9uIC8gZmlsZURhdGEuYnl0ZUxlbmd0aCkgKiAxMDApfSUgZG9uZWA7CiAgICB9CiAgfQoKICAvLyBBbGwgZG9uZS4KICB5aWVsZCB7CiAgICByZXNwb25zZTogewogICAgICBhY3Rpb246ICdjb21wbGV0ZScsCiAgICB9CiAgfTsKfQoKc2NvcGUuZ29vZ2xlID0gc2NvcGUuZ29vZ2xlIHx8IHt9OwpzY29wZS5nb29nbGUuY29sYWIgPSBzY29wZS5nb29nbGUuY29sYWIgfHwge307CnNjb3BlLmdvb2dsZS5jb2xhYi5fZmlsZXMgPSB7CiAgX3VwbG9hZEZpbGVzLAogIF91cGxvYWRGaWxlc0NvbnRpbnVlLAp9Owp9KShzZWxmKTsK",
              "ok": true,
              "headers": [
                [
                  "content-type",
                  "application/javascript"
                ]
              ],
              "status": 200,
              "status_text": ""
            }
          },
          "base_uri": "https://localhost:8080/",
          "height": 73
        }
      },
      "source": [
        "from google.colab import files \n",
        "uploaded = files.upload()"
      ],
      "execution_count": null,
      "outputs": [
        {
          "output_type": "display_data",
          "data": {
            "text/html": [
              "\n",
              "     <input type=\"file\" id=\"files-cb9e11a4-a0a2-49bb-a5af-f75766fa60e8\" name=\"files[]\" multiple disabled\n",
              "        style=\"border:none\" />\n",
              "     <output id=\"result-cb9e11a4-a0a2-49bb-a5af-f75766fa60e8\">\n",
              "      Upload widget is only available when the cell has been executed in the\n",
              "      current browser session. Please rerun this cell to enable.\n",
              "      </output>\n",
              "      <script src=\"/nbextensions/google.colab/files.js\"></script> "
            ],
            "text/plain": [
              "<IPython.core.display.HTML object>"
            ]
          },
          "metadata": {
            "tags": []
          }
        },
        {
          "output_type": "stream",
          "text": [
            "Saving Validation Dataset.xlsx - Sheet1.csv to Validation Dataset.xlsx - Sheet1.csv\n"
          ],
          "name": "stdout"
        }
      ]
    },
    {
      "cell_type": "code",
      "metadata": {
        "id": "OtQu0Ev6kO6E"
      },
      "source": [
        "import io\n",
        "test=pd.read_csv(\"Validation Dataset.xlsx - Sheet1.csv\")"
      ],
      "execution_count": null,
      "outputs": []
    },
    {
      "cell_type": "markdown",
      "metadata": {
        "id": "jqQLE4pXbbQb"
      },
      "source": [
        "REMOVING THE COMA'S B/W THE NUMBERS FROM \"TARGET IN EA\" VARIABLE"
      ]
    },
    {
      "cell_type": "code",
      "metadata": {
        "id": "Zp1GQdj7kcQF"
      },
      "source": [
        "test['TARGET_IN_EA'] = test['TARGET_IN_EA'].str.replace(',', '').astype(float)\n"
      ],
      "execution_count": null,
      "outputs": []
    },
    {
      "cell_type": "markdown",
      "metadata": {
        "id": "aXNIjJdM9kMF"
      },
      "source": [
        "CONVERTING CATEGORICAL VARIABLES INTO NUMERICAL VALUES"
      ]
    },
    {
      "cell_type": "code",
      "metadata": {
        "id": "qz33MsMEWdnJ"
      },
      "source": [
        "Le=preprocessing.LabelEncoder()\n",
        "test[\"PROD_CD\"]=Le.fit_transform(test[\"PROD_CD\"])\n",
        "test[\"SLSMAN_CD\"]=Le.fit_transform(test[\"SLSMAN_CD\"])\n"
      ],
      "execution_count": null,
      "outputs": []
    },
    {
      "cell_type": "markdown",
      "metadata": {
        "id": "N28MQiJYbnvA"
      },
      "source": [
        "DROPING PLAN YEAR AND ACHIEVMENT FROM THE DATASET"
      ]
    },
    {
      "cell_type": "code",
      "metadata": {
        "id": "CvYM5wqJkYHH"
      },
      "source": [
        "test=test.drop(\"PLAN_YEAR\",axis=1)\n",
        "test=test.drop(\"ACH_IN_EA\",axis=1)"
      ],
      "execution_count": null,
      "outputs": []
    },
    {
      "cell_type": "markdown",
      "metadata": {
        "id": "wTfwlPo9bziE"
      },
      "source": [
        "PREDICTING THE FEBRUARY MONTH TARGET FOR EACH AND  EVERY SALESMAN BASED ON THEIR PREVIOUS MONTH SALES"
      ]
    },
    {
      "cell_type": "code",
      "metadata": {
        "id": "MEblp89zkaCX"
      },
      "source": [
        "valid_pred=Target_Model.predict(test)"
      ],
      "execution_count": null,
      "outputs": []
    },
    {
      "cell_type": "code",
      "metadata": {
        "id": "FWbV_aOokhDm",
        "outputId": "ed9d163c-98ab-4216-818e-3355b9b14c9b",
        "colab": {
          "base_uri": "https://localhost:8080/",
          "height": 52
        }
      },
      "source": [
        "valid_pred"
      ],
      "execution_count": null,
      "outputs": [
        {
          "output_type": "execute_result",
          "data": {
            "text/plain": [
              "array([ 119.43978134,  241.99252374,  499.03591706, ..., 3606.27439768,\n",
              "        823.61225427,  284.39255177])"
            ]
          },
          "metadata": {
            "tags": []
          },
          "execution_count": 61
        }
      ]
    },
    {
      "cell_type": "markdown",
      "metadata": {
        "id": "tIfq-OcecccZ"
      },
      "source": [
        "CONVERING THE PREDICTED RESULT INTO A DATAFRAME"
      ]
    },
    {
      "cell_type": "code",
      "metadata": {
        "id": "QzSXcqhykjbd"
      },
      "source": [
        "final=pd.DataFrame(valid_pred)"
      ],
      "execution_count": null,
      "outputs": []
    },
    {
      "cell_type": "markdown",
      "metadata": {
        "id": "bsKQLyxycnKS"
      },
      "source": [
        "APPENDING THE PREDICTED RESULT TO THE VALIDATION DATASET"
      ]
    },
    {
      "cell_type": "code",
      "metadata": {
        "id": "uDb6uX3fEzxG",
        "outputId": "028ae1a8-f805-4488-e713-4bb7170c7a65",
        "colab": {
          "resources": {
            "http://localhost:8080/nbextensions/google.colab/files.js": {
              "data": "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",
              "ok": true,
              "headers": [
                [
                  "content-type",
                  "application/javascript"
                ]
              ],
              "status": 200,
              "status_text": ""
            }
          },
          "base_uri": "https://localhost:8080/",
          "height": 73
        }
      },
      "source": [
        "from google.colab import files \n",
        "uploaded = files.upload()"
      ],
      "execution_count": null,
      "outputs": [
        {
          "output_type": "display_data",
          "data": {
            "text/html": [
              "\n",
              "     <input type=\"file\" id=\"files-239d1031-0e6d-4e65-8d64-4c8e65561f5b\" name=\"files[]\" multiple disabled\n",
              "        style=\"border:none\" />\n",
              "     <output id=\"result-239d1031-0e6d-4e65-8d64-4c8e65561f5b\">\n",
              "      Upload widget is only available when the cell has been executed in the\n",
              "      current browser session. Please rerun this cell to enable.\n",
              "      </output>\n",
              "      <script src=\"/nbextensions/google.colab/files.js\"></script> "
            ],
            "text/plain": [
              "<IPython.core.display.HTML object>"
            ]
          },
          "metadata": {
            "tags": []
          }
        },
        {
          "output_type": "stream",
          "text": [
            "Saving Validation Dataset.xlsx - Sheet1.csv to Validation Dataset.xlsx - Sheet1 (1).csv\n"
          ],
          "name": "stdout"
        }
      ]
    },
    {
      "cell_type": "code",
      "metadata": {
        "id": "xKNFAPcFE88Z"
      },
      "source": [
        "import io\n",
        "validation=pd.read_csv(\"Validation Dataset.xlsx - Sheet1.csv\")"
      ],
      "execution_count": null,
      "outputs": []
    },
    {
      "cell_type": "code",
      "metadata": {
        "id": "e6ECpDNcFJ3K",
        "outputId": "9a83f43a-0923-48ed-ab1e-e2f0bc35e3c1",
        "colab": {
          "base_uri": "https://localhost:8080/",
          "height": 70
        }
      },
      "source": [
        "validation.columns"
      ],
      "execution_count": null,
      "outputs": [
        {
          "output_type": "execute_result",
          "data": {
            "text/plain": [
              "Index(['PROD_CD', 'SLSMAN_CD', 'PLAN_MONTH', 'PLAN_YEAR', 'TARGET_IN_EA',\n",
              "       'ACH_IN_EA'],\n",
              "      dtype='object')"
            ]
          },
          "metadata": {
            "tags": []
          },
          "execution_count": 65
        }
      ]
    },
    {
      "cell_type": "code",
      "metadata": {
        "id": "iWyWJrHbFEnG"
      },
      "source": [
        "validation=validation.drop(\"ACH_IN_EA\",axis=1)"
      ],
      "execution_count": null,
      "outputs": []
    },
    {
      "cell_type": "code",
      "metadata": {
        "id": "EsJcz-V5kwbc"
      },
      "source": [
        "Finaldata=pd.concat([validation,final],axis=1)"
      ],
      "execution_count": null,
      "outputs": []
    },
    {
      "cell_type": "markdown",
      "metadata": {
        "id": "jGdVibYydfQ8"
      },
      "source": [
        "CHANGING THE COLUMN NAME FOR PREDICTED VARIABLE"
      ]
    },
    {
      "cell_type": "code",
      "metadata": {
        "id": "ekjTR3lqdLL6"
      },
      "source": [
        "Finaldata = Finaldata.rename(columns = {0 : \"Target for feb\" }) \n"
      ],
      "execution_count": null,
      "outputs": []
    },
    {
      "cell_type": "markdown",
      "metadata": {
        "id": "XVCgyN6Kdr4K"
      },
      "source": [
        "FIRST 30 OBSERVATIONS OF FINAL DATA"
      ]
    },
    {
      "cell_type": "code",
      "metadata": {
        "id": "WDgHNTspqtV6",
        "outputId": "eee13a2a-6813-4a30-f476-703199597046",
        "colab": {
          "base_uri": "https://localhost:8080/",
          "height": 947
        }
      },
      "source": [
        "Finaldata.head(30)"
      ],
      "execution_count": null,
      "outputs": [
        {
          "output_type": "execute_result",
          "data": {
            "text/html": [
              "<div>\n",
              "<style scoped>\n",
              "    .dataframe tbody tr th:only-of-type {\n",
              "        vertical-align: middle;\n",
              "    }\n",
              "\n",
              "    .dataframe tbody tr th {\n",
              "        vertical-align: top;\n",
              "    }\n",
              "\n",
              "    .dataframe thead th {\n",
              "        text-align: right;\n",
              "    }\n",
              "</style>\n",
              "<table border=\"1\" class=\"dataframe\">\n",
              "  <thead>\n",
              "    <tr style=\"text-align: right;\">\n",
              "      <th></th>\n",
              "      <th>PROD_CD</th>\n",
              "      <th>SLSMAN_CD</th>\n",
              "      <th>PLAN_MONTH</th>\n",
              "      <th>PLAN_YEAR</th>\n",
              "      <th>TARGET_IN_EA</th>\n",
              "      <th>Target for feb</th>\n",
              "    </tr>\n",
              "  </thead>\n",
              "  <tbody>\n",
              "    <tr>\n",
              "      <th>0</th>\n",
              "      <td>PROD_3</td>\n",
              "      <td>SLSMAN_1</td>\n",
              "      <td>1</td>\n",
              "      <td>2020</td>\n",
              "      <td>40</td>\n",
              "      <td>119.439781</td>\n",
              "    </tr>\n",
              "    <tr>\n",
              "      <th>1</th>\n",
              "      <td>PROD_5</td>\n",
              "      <td>SLSMAN_1</td>\n",
              "      <td>1</td>\n",
              "      <td>2020</td>\n",
              "      <td>240</td>\n",
              "      <td>241.992524</td>\n",
              "    </tr>\n",
              "    <tr>\n",
              "      <th>2</th>\n",
              "      <td>PROD_11</td>\n",
              "      <td>SLSMAN_1</td>\n",
              "      <td>1</td>\n",
              "      <td>2020</td>\n",
              "      <td>360</td>\n",
              "      <td>499.035917</td>\n",
              "    </tr>\n",
              "    <tr>\n",
              "      <th>3</th>\n",
              "      <td>PROD_13</td>\n",
              "      <td>SLSMAN_1</td>\n",
              "      <td>1</td>\n",
              "      <td>2020</td>\n",
              "      <td>12,816</td>\n",
              "      <td>11192.787226</td>\n",
              "    </tr>\n",
              "    <tr>\n",
              "      <th>4</th>\n",
              "      <td>PROD_14</td>\n",
              "      <td>SLSMAN_1</td>\n",
              "      <td>1</td>\n",
              "      <td>2020</td>\n",
              "      <td>44,460</td>\n",
              "      <td>43315.931009</td>\n",
              "    </tr>\n",
              "    <tr>\n",
              "      <th>5</th>\n",
              "      <td>PROD_15</td>\n",
              "      <td>SLSMAN_1</td>\n",
              "      <td>1</td>\n",
              "      <td>2020</td>\n",
              "      <td>15,012</td>\n",
              "      <td>15271.963420</td>\n",
              "    </tr>\n",
              "    <tr>\n",
              "      <th>6</th>\n",
              "      <td>PROD_16</td>\n",
              "      <td>SLSMAN_1</td>\n",
              "      <td>1</td>\n",
              "      <td>2020</td>\n",
              "      <td>2,268</td>\n",
              "      <td>3347.735300</td>\n",
              "    </tr>\n",
              "    <tr>\n",
              "      <th>7</th>\n",
              "      <td>PROD_17</td>\n",
              "      <td>SLSMAN_1</td>\n",
              "      <td>1</td>\n",
              "      <td>2020</td>\n",
              "      <td>22,320</td>\n",
              "      <td>23970.563872</td>\n",
              "    </tr>\n",
              "    <tr>\n",
              "      <th>8</th>\n",
              "      <td>PROD_18</td>\n",
              "      <td>SLSMAN_1</td>\n",
              "      <td>1</td>\n",
              "      <td>2020</td>\n",
              "      <td>9,300</td>\n",
              "      <td>7618.464049</td>\n",
              "    </tr>\n",
              "    <tr>\n",
              "      <th>9</th>\n",
              "      <td>PROD_19</td>\n",
              "      <td>SLSMAN_1</td>\n",
              "      <td>1</td>\n",
              "      <td>2020</td>\n",
              "      <td>19,320</td>\n",
              "      <td>14290.474199</td>\n",
              "    </tr>\n",
              "    <tr>\n",
              "      <th>10</th>\n",
              "      <td>PROD_22</td>\n",
              "      <td>SLSMAN_1</td>\n",
              "      <td>1</td>\n",
              "      <td>2020</td>\n",
              "      <td>15,200</td>\n",
              "      <td>14899.028608</td>\n",
              "    </tr>\n",
              "    <tr>\n",
              "      <th>11</th>\n",
              "      <td>PROD_23</td>\n",
              "      <td>SLSMAN_1</td>\n",
              "      <td>1</td>\n",
              "      <td>2020</td>\n",
              "      <td>144</td>\n",
              "      <td>632.059085</td>\n",
              "    </tr>\n",
              "    <tr>\n",
              "      <th>12</th>\n",
              "      <td>PROD_25</td>\n",
              "      <td>SLSMAN_1</td>\n",
              "      <td>1</td>\n",
              "      <td>2020</td>\n",
              "      <td>468</td>\n",
              "      <td>834.004730</td>\n",
              "    </tr>\n",
              "    <tr>\n",
              "      <th>13</th>\n",
              "      <td>PROD_26</td>\n",
              "      <td>SLSMAN_1</td>\n",
              "      <td>1</td>\n",
              "      <td>2020</td>\n",
              "      <td>1,224</td>\n",
              "      <td>1757.068405</td>\n",
              "    </tr>\n",
              "    <tr>\n",
              "      <th>14</th>\n",
              "      <td>PROD_27</td>\n",
              "      <td>SLSMAN_1</td>\n",
              "      <td>1</td>\n",
              "      <td>2020</td>\n",
              "      <td>504</td>\n",
              "      <td>522.024028</td>\n",
              "    </tr>\n",
              "    <tr>\n",
              "      <th>15</th>\n",
              "      <td>PROD_31</td>\n",
              "      <td>SLSMAN_1</td>\n",
              "      <td>1</td>\n",
              "      <td>2020</td>\n",
              "      <td>2,800</td>\n",
              "      <td>2601.070619</td>\n",
              "    </tr>\n",
              "    <tr>\n",
              "      <th>16</th>\n",
              "      <td>PROD_32</td>\n",
              "      <td>SLSMAN_1</td>\n",
              "      <td>1</td>\n",
              "      <td>2020</td>\n",
              "      <td>264</td>\n",
              "      <td>168.332079</td>\n",
              "    </tr>\n",
              "    <tr>\n",
              "      <th>17</th>\n",
              "      <td>PROD_33</td>\n",
              "      <td>SLSMAN_1</td>\n",
              "      <td>1</td>\n",
              "      <td>2020</td>\n",
              "      <td>252</td>\n",
              "      <td>125.686351</td>\n",
              "    </tr>\n",
              "    <tr>\n",
              "      <th>18</th>\n",
              "      <td>PROD_35</td>\n",
              "      <td>SLSMAN_1</td>\n",
              "      <td>1</td>\n",
              "      <td>2020</td>\n",
              "      <td>15,264</td>\n",
              "      <td>14517.830918</td>\n",
              "    </tr>\n",
              "    <tr>\n",
              "      <th>19</th>\n",
              "      <td>PROD_36</td>\n",
              "      <td>SLSMAN_1</td>\n",
              "      <td>1</td>\n",
              "      <td>2020</td>\n",
              "      <td>48</td>\n",
              "      <td>28.806150</td>\n",
              "    </tr>\n",
              "    <tr>\n",
              "      <th>20</th>\n",
              "      <td>PROD_37</td>\n",
              "      <td>SLSMAN_1</td>\n",
              "      <td>1</td>\n",
              "      <td>2020</td>\n",
              "      <td>252</td>\n",
              "      <td>227.292911</td>\n",
              "    </tr>\n",
              "    <tr>\n",
              "      <th>21</th>\n",
              "      <td>PROD_38</td>\n",
              "      <td>SLSMAN_1</td>\n",
              "      <td>1</td>\n",
              "      <td>2020</td>\n",
              "      <td>612</td>\n",
              "      <td>500.297260</td>\n",
              "    </tr>\n",
              "    <tr>\n",
              "      <th>22</th>\n",
              "      <td>PROD_39</td>\n",
              "      <td>SLSMAN_1</td>\n",
              "      <td>1</td>\n",
              "      <td>2020</td>\n",
              "      <td>900</td>\n",
              "      <td>859.890058</td>\n",
              "    </tr>\n",
              "    <tr>\n",
              "      <th>23</th>\n",
              "      <td>PROD_42</td>\n",
              "      <td>SLSMAN_1</td>\n",
              "      <td>1</td>\n",
              "      <td>2020</td>\n",
              "      <td>288</td>\n",
              "      <td>540.337949</td>\n",
              "    </tr>\n",
              "    <tr>\n",
              "      <th>24</th>\n",
              "      <td>PROD_45</td>\n",
              "      <td>SLSMAN_1</td>\n",
              "      <td>1</td>\n",
              "      <td>2020</td>\n",
              "      <td>144</td>\n",
              "      <td>181.974447</td>\n",
              "    </tr>\n",
              "    <tr>\n",
              "      <th>25</th>\n",
              "      <td>PROD_47</td>\n",
              "      <td>SLSMAN_1</td>\n",
              "      <td>1</td>\n",
              "      <td>2020</td>\n",
              "      <td>1,080</td>\n",
              "      <td>1109.076937</td>\n",
              "    </tr>\n",
              "    <tr>\n",
              "      <th>26</th>\n",
              "      <td>PROD_50</td>\n",
              "      <td>SLSMAN_1</td>\n",
              "      <td>1</td>\n",
              "      <td>2020</td>\n",
              "      <td>71,904</td>\n",
              "      <td>39071.904369</td>\n",
              "    </tr>\n",
              "    <tr>\n",
              "      <th>27</th>\n",
              "      <td>PROD_56</td>\n",
              "      <td>SLSMAN_1</td>\n",
              "      <td>1</td>\n",
              "      <td>2020</td>\n",
              "      <td>576</td>\n",
              "      <td>372.821968</td>\n",
              "    </tr>\n",
              "    <tr>\n",
              "      <th>28</th>\n",
              "      <td>PROD_58</td>\n",
              "      <td>SLSMAN_1</td>\n",
              "      <td>1</td>\n",
              "      <td>2020</td>\n",
              "      <td>34,608</td>\n",
              "      <td>27071.775855</td>\n",
              "    </tr>\n",
              "    <tr>\n",
              "      <th>29</th>\n",
              "      <td>PROD_59</td>\n",
              "      <td>SLSMAN_1</td>\n",
              "      <td>1</td>\n",
              "      <td>2020</td>\n",
              "      <td>3,024</td>\n",
              "      <td>2536.228347</td>\n",
              "    </tr>\n",
              "  </tbody>\n",
              "</table>\n",
              "</div>"
            ],
            "text/plain": [
              "    PROD_CD SLSMAN_CD  PLAN_MONTH  PLAN_YEAR TARGET_IN_EA  Target for feb\n",
              "0    PROD_3  SLSMAN_1           1       2020           40      119.439781\n",
              "1    PROD_5  SLSMAN_1           1       2020          240      241.992524\n",
              "2   PROD_11  SLSMAN_1           1       2020          360      499.035917\n",
              "3   PROD_13  SLSMAN_1           1       2020       12,816    11192.787226\n",
              "4   PROD_14  SLSMAN_1           1       2020       44,460    43315.931009\n",
              "5   PROD_15  SLSMAN_1           1       2020       15,012    15271.963420\n",
              "6   PROD_16  SLSMAN_1           1       2020        2,268     3347.735300\n",
              "7   PROD_17  SLSMAN_1           1       2020       22,320    23970.563872\n",
              "8   PROD_18  SLSMAN_1           1       2020        9,300     7618.464049\n",
              "9   PROD_19  SLSMAN_1           1       2020       19,320    14290.474199\n",
              "10  PROD_22  SLSMAN_1           1       2020       15,200    14899.028608\n",
              "11  PROD_23  SLSMAN_1           1       2020          144      632.059085\n",
              "12  PROD_25  SLSMAN_1           1       2020          468      834.004730\n",
              "13  PROD_26  SLSMAN_1           1       2020        1,224     1757.068405\n",
              "14  PROD_27  SLSMAN_1           1       2020          504      522.024028\n",
              "15  PROD_31  SLSMAN_1           1       2020        2,800     2601.070619\n",
              "16  PROD_32  SLSMAN_1           1       2020          264      168.332079\n",
              "17  PROD_33  SLSMAN_1           1       2020          252      125.686351\n",
              "18  PROD_35  SLSMAN_1           1       2020       15,264    14517.830918\n",
              "19  PROD_36  SLSMAN_1           1       2020           48       28.806150\n",
              "20  PROD_37  SLSMAN_1           1       2020          252      227.292911\n",
              "21  PROD_38  SLSMAN_1           1       2020          612      500.297260\n",
              "22  PROD_39  SLSMAN_1           1       2020          900      859.890058\n",
              "23  PROD_42  SLSMAN_1           1       2020          288      540.337949\n",
              "24  PROD_45  SLSMAN_1           1       2020          144      181.974447\n",
              "25  PROD_47  SLSMAN_1           1       2020        1,080     1109.076937\n",
              "26  PROD_50  SLSMAN_1           1       2020       71,904    39071.904369\n",
              "27  PROD_56  SLSMAN_1           1       2020          576      372.821968\n",
              "28  PROD_58  SLSMAN_1           1       2020       34,608    27071.775855\n",
              "29  PROD_59  SLSMAN_1           1       2020        3,024     2536.228347"
            ]
          },
          "metadata": {
            "tags": []
          },
          "execution_count": 69
        }
      ]
    },
    {
      "cell_type": "markdown",
      "metadata": {
        "id": "jC-wBjHnd5VF"
      },
      "source": [
        "CONVERTING THE FILE INTO CSV FORMAT"
      ]
    },
    {
      "cell_type": "code",
      "metadata": {
        "id": "nak-n0REd8H_"
      },
      "source": [
        "Finaldata.to_csv(\"Finaldata.csv\")"
      ],
      "execution_count": null,
      "outputs": []
    },
    {
      "cell_type": "code",
      "metadata": {
        "id": "hTfPeRds4aJi"
      },
      "source": [
        "!"
      ],
      "execution_count": null,
      "outputs": []
    },
    {
      "cell_type": "markdown",
      "metadata": {
        "id": "NrVI0qT68Uea"
      },
      "source": [
        "Making an array function for valiadtion dataset"
      ]
    },
    {
      "cell_type": "code",
      "metadata": {
        "id": "CpaDiNC38ikf"
      },
      "source": [
        "Products= ['PROD_3', 'PROD_5', 'PROD_11', 'PROD_13', 'PROD_14', 'PROD_15',\n",
        "       'PROD_16', 'PROD_17', 'PROD_18', 'PROD_19', 'PROD_22', 'PROD_23',\n",
        "       'PROD_25', 'PROD_26', 'PROD_27', 'PROD_31', 'PROD_32', 'PROD_33',\n",
        "       'PROD_35', 'PROD_36', 'PROD_37', 'PROD_38', 'PROD_39', 'PROD_42',\n",
        "       'PROD_45', 'PROD_47', 'PROD_50', 'PROD_56', 'PROD_58', 'PROD_59',\n",
        "       'PROD_61', 'PROD_62', 'PROD_80', 'PROD_21', 'PROD_81', 'PROD_20',\n",
        "       'PROD_28', 'PROD_43', 'PROD_51', 'PROD_54', 'PROD_82', 'PROD_83',\n",
        "       'PROD_52', 'PROD_4', 'PROD_48', 'PROD_12', 'PROD_6', 'PROD_7',\n",
        "       'PROD_53', 'PROD_55', 'PROD_57', 'PROD_60', 'PROD_70', 'PROD_75',\n",
        "       'PROD_78', 'PROD_79', 'PROD_8', 'PROD_30']"
      ],
      "execution_count": null,
      "outputs": []
    },
    {
      "cell_type": "code",
      "metadata": {
        "id": "IS3xMpE19xC4"
      },
      "source": [
        "Salesman= ['SLSMAN_1', 'SLSMAN_2', 'SLSMAN_3', 'SLSMAN_4', 'SLSMAN_5',\n",
        "       'SLSMAN_6', 'SLSMAN_7', 'SLSMAN_8', 'SLSMAN_9', 'SLSMAN_10',\n",
        "       'SLSMAN_11', 'SLSMAN_12', 'SLSMAN_13', 'SLSMAN_14', 'SLSMAN_15',\n",
        "       'SLSMAN_16', 'SLSMAN_17', 'SLSMAN_18', 'SLSMAN_19', 'SLSMAN_21',\n",
        "       'SLSMAN_23', 'SLSMAN_25', 'SLSMAN_27', 'SLSMAN_29', 'SLSMAN_30',\n",
        "       'SLSMAN_31', 'SLSMAN_32', 'SLSMAN_33', 'SLSMAN_34', 'SLSMAN_35',\n",
        "       'SLSMAN_36', 'SLSMAN_37', 'SLSMAN_38', 'SLSMAN_39', 'SLSMAN_40',\n",
        "       'SLSMAN_41', 'SLSMAN_42', 'SLSMAN_43', 'SLSMAN_44', 'SLSMAN_45',\n",
        "       'SLSMAN_46', 'SLSMAN_47', 'SLSMAN_48', 'SLSMAN_49', 'SLSMAN_50',\n",
        "       'SLSMAN_51', 'SLSMAN_52', 'SLSMAN_53', 'SLSMAN_54', 'SLSMAN_56',\n",
        "       'SLSMAN_57', 'SLSMAN_58', 'SLSMAN_60', 'SLSMAN_62', 'SLSMAN_64',\n",
        "       'SLSMAN_66', 'SLSMAN_68', 'SLSMAN_70', 'SLSMAN_73', 'SLSMAN_74',\n",
        "       'SLSMAN_75', 'SLSMAN_79', 'SLSMAN_80', 'SLSMAN_81', 'SLSMAN_82',\n",
        "       'SLSMAN_83', 'SLSMAN_84', 'SLSMAN_85', 'SLSMAN_86', 'SLSMAN_87',\n",
        "       'SLSMAN_88', 'SLSMAN_89', 'SLSMAN_90', 'SLSMAN_91', 'SLSMAN_92',\n",
        "       'SLSMAN_93', 'SLSMAN_94', 'SLSMAN_95', 'SLSMAN_96', 'SLSMAN_97',\n",
        "       'SLSMAN_98', 'SLSMAN_99', 'SLSMAN_100', 'SLSMAN_101', 'SLSMAN_102',\n",
        "       'SLSMAN_103', 'SLSMAN_104', 'SLSMAN_105', 'SLSMAN_106',\n",
        "       'SLSMAN_107', 'SLSMAN_108', 'SLSMAN_109', 'SLSMAN_110',\n",
        "       'SLSMAN_111', 'SLSMAN_112', 'SLSMAN_113', 'SLSMAN_114',\n",
        "       'SLSMAN_115', 'SLSMAN_117', 'SLSMAN_119', 'SLSMAN_121',\n",
        "       'SLSMAN_122', 'SLSMAN_123', 'SLSMAN_124', 'SLSMAN_125',\n",
        "       'SLSMAN_126', 'SLSMAN_127', 'SLSMAN_128', 'SLSMAN_129',\n",
        "       'SLSMAN_130', 'SLSMAN_131', 'SLSMAN_132', 'SLSMAN_134',\n",
        "       'SLSMAN_136', 'SLSMAN_138', 'SLSMAN_139', 'SLSMAN_140',\n",
        "       'SLSMAN_141', 'SLSMAN_142', 'SLSMAN_143', 'SLSMAN_144',\n",
        "       'SLSMAN_146', 'SLSMAN_148', 'SLSMAN_150', 'SLSMAN_152',\n",
        "       'SLSMAN_154', 'SLSMAN_156', 'SLSMAN_158', 'SLSMAN_159',\n",
        "       'SLSMAN_160', 'SLSMAN_161', 'SLSMAN_162', 'SLSMAN_163',\n",
        "       'SLSMAN_164', 'SLSMAN_165', 'SLSMAN_166', 'SLSMAN_168',\n",
        "       'SLSMAN_169', 'SLSMAN_170', 'SLSMAN_171', 'SLSMAN_172',\n",
        "       'SLSMAN_173', 'SLSMAN_174', 'SLSMAN_176', 'SLSMAN_178',\n",
        "       'SLSMAN_180', 'SLSMAN_181', 'SLSMAN_182', 'SLSMAN_183',\n",
        "       'SLSMAN_184', 'SLSMAN_185', 'SLSMAN_186', 'SLSMAN_190',\n",
        "       'SLSMAN_191', 'SLSMAN_192', 'SLSMAN_193', 'SLSMAN_194',\n",
        "       'SLSMAN_195', 'SLSMAN_196', 'SLSMAN_197', 'SLSMAN_198',\n",
        "       'SLSMAN_199', 'SLSMAN_200', 'SLSMAN_201', 'SLSMAN_202',\n",
        "       'SLSMAN_204', 'SLSMAN_206', 'SLSMAN_208', 'SLSMAN_209',\n",
        "       'SLSMAN_210', 'SLSMAN_211', 'SLSMAN_212', 'SLSMAN_213',\n",
        "       'SLSMAN_214', 'SLSMAN_215', 'SLSMAN_216', 'SLSMAN_217']"
      ],
      "execution_count": null,
      "outputs": []
    },
    {
      "cell_type": "code",
      "metadata": {
        "id": "79r6KQYy-Wri"
      },
      "source": [
        "def predict_achievment(PRODUCT ,SALESMAN ,PLAN_MONTH,TARGET_IN_EA):\n",
        "\n",
        "  Products= ['PROD_3', 'PROD_5', 'PROD_11', 'PROD_13', 'PROD_14', 'PROD_15',\n",
        "       'PROD_16', 'PROD_17', 'PROD_18', 'PROD_19', 'PROD_22', 'PROD_23',\n",
        "       'PROD_25', 'PROD_26', 'PROD_27', 'PROD_31', 'PROD_32', 'PROD_33',\n",
        "       'PROD_35', 'PROD_36', 'PROD_37', 'PROD_38', 'PROD_39', 'PROD_42',\n",
        "       'PROD_45', 'PROD_47', 'PROD_50', 'PROD_56', 'PROD_58', 'PROD_59',\n",
        "       'PROD_61', 'PROD_62', 'PROD_80', 'PROD_21', 'PROD_81', 'PROD_20',\n",
        "       'PROD_28', 'PROD_43', 'PROD_51', 'PROD_54', 'PROD_82', 'PROD_83',\n",
        "       'PROD_52', 'PROD_4', 'PROD_48', 'PROD_12', 'PROD_6', 'PROD_7',\n",
        "       'PROD_53', 'PROD_55', 'PROD_57', 'PROD_60', 'PROD_70', 'PROD_75',\n",
        "       'PROD_78', 'PROD_79', 'PROD_8', 'PROD_30']\n",
        "  Salesman= ['SLSMAN_1', 'SLSMAN_2', 'SLSMAN_3', 'SLSMAN_4', 'SLSMAN_5',\n",
        "       'SLSMAN_6', 'SLSMAN_7', 'SLSMAN_8', 'SLSMAN_9', 'SLSMAN_10',\n",
        "       'SLSMAN_11', 'SLSMAN_12', 'SLSMAN_13', 'SLSMAN_14', 'SLSMAN_15',\n",
        "       'SLSMAN_16', 'SLSMAN_17', 'SLSMAN_18', 'SLSMAN_19', 'SLSMAN_21',\n",
        "       'SLSMAN_23', 'SLSMAN_25', 'SLSMAN_27', 'SLSMAN_29', 'SLSMAN_30',\n",
        "       'SLSMAN_31', 'SLSMAN_32', 'SLSMAN_33', 'SLSMAN_34', 'SLSMAN_35',\n",
        "       'SLSMAN_36', 'SLSMAN_37', 'SLSMAN_38', 'SLSMAN_39', 'SLSMAN_40',\n",
        "       'SLSMAN_41', 'SLSMAN_42', 'SLSMAN_43', 'SLSMAN_44', 'SLSMAN_45',\n",
        "       'SLSMAN_46', 'SLSMAN_47', 'SLSMAN_48', 'SLSMAN_49', 'SLSMAN_50',\n",
        "       'SLSMAN_51', 'SLSMAN_52', 'SLSMAN_53', 'SLSMAN_54', 'SLSMAN_56',\n",
        "       'SLSMAN_57', 'SLSMAN_58', 'SLSMAN_60', 'SLSMAN_62', 'SLSMAN_64',\n",
        "       'SLSMAN_66', 'SLSMAN_68', 'SLSMAN_70', 'SLSMAN_73', 'SLSMAN_74',\n",
        "       'SLSMAN_75', 'SLSMAN_79', 'SLSMAN_80', 'SLSMAN_81', 'SLSMAN_82',\n",
        "       'SLSMAN_83', 'SLSMAN_84', 'SLSMAN_85', 'SLSMAN_86', 'SLSMAN_87',\n",
        "       'SLSMAN_88', 'SLSMAN_89', 'SLSMAN_90', 'SLSMAN_91', 'SLSMAN_92',\n",
        "       'SLSMAN_93', 'SLSMAN_94', 'SLSMAN_95', 'SLSMAN_96', 'SLSMAN_97',\n",
        "       'SLSMAN_98', 'SLSMAN_99', 'SLSMAN_100', 'SLSMAN_101', 'SLSMAN_102',\n",
        "       'SLSMAN_103', 'SLSMAN_104', 'SLSMAN_105', 'SLSMAN_106',\n",
        "       'SLSMAN_107', 'SLSMAN_108', 'SLSMAN_109', 'SLSMAN_110',\n",
        "       'SLSMAN_111', 'SLSMAN_112', 'SLSMAN_113', 'SLSMAN_114',\n",
        "       'SLSMAN_115', 'SLSMAN_117', 'SLSMAN_119', 'SLSMAN_121',\n",
        "       'SLSMAN_122', 'SLSMAN_123', 'SLSMAN_124', 'SLSMAN_125',\n",
        "       'SLSMAN_126', 'SLSMAN_127', 'SLSMAN_128', 'SLSMAN_129',\n",
        "       'SLSMAN_130', 'SLSMAN_131', 'SLSMAN_132', 'SLSMAN_134',\n",
        "       'SLSMAN_136', 'SLSMAN_138', 'SLSMAN_139', 'SLSMAN_140',\n",
        "       'SLSMAN_141', 'SLSMAN_142', 'SLSMAN_143', 'SLSMAN_144',\n",
        "       'SLSMAN_146', 'SLSMAN_148', 'SLSMAN_150', 'SLSMAN_152',\n",
        "       'SLSMAN_154', 'SLSMAN_156', 'SLSMAN_158', 'SLSMAN_159',\n",
        "       'SLSMAN_160', 'SLSMAN_161', 'SLSMAN_162', 'SLSMAN_163',\n",
        "       'SLSMAN_164', 'SLSMAN_165', 'SLSMAN_166', 'SLSMAN_168',\n",
        "       'SLSMAN_169', 'SLSMAN_170', 'SLSMAN_171', 'SLSMAN_172',\n",
        "       'SLSMAN_173', 'SLSMAN_174', 'SLSMAN_176', 'SLSMAN_178',\n",
        "       'SLSMAN_180', 'SLSMAN_181', 'SLSMAN_182', 'SLSMAN_183',\n",
        "       'SLSMAN_184', 'SLSMAN_185', 'SLSMAN_186', 'SLSMAN_190',\n",
        "       'SLSMAN_191', 'SLSMAN_192', 'SLSMAN_193', 'SLSMAN_194',\n",
        "       'SLSMAN_195', 'SLSMAN_196', 'SLSMAN_197', 'SLSMAN_198',\n",
        "       'SLSMAN_199', 'SLSMAN_200', 'SLSMAN_201', 'SLSMAN_202',\n",
        "       'SLSMAN_204', 'SLSMAN_206', 'SLSMAN_208', 'SLSMAN_209',\n",
        "       'SLSMAN_210', 'SLSMAN_211', 'SLSMAN_212', 'SLSMAN_213',\n",
        "       'SLSMAN_214', 'SLSMAN_215', 'SLSMAN_216', 'SLSMAN_217']\n",
        "\n",
        "  PROD_CD = Products.index(PRODUCT)\n",
        "  SLSMAN_CD= Salesman.index(SALESMAN)\n",
        "  x= np.zeros(len(test.columns))\n",
        "  x[0]= PROD_CD\n",
        "  x[1]= SLSMAN_CD\n",
        "  x[2]=PLAN_MONTH\n",
        "  x[3]=TARGET_IN_EA\n",
        "  print(x)\n",
        "  pred=Target_Model.predict([x])[0]\n",
        "  return pred"
      ],
      "execution_count": null,
      "outputs": []
    },
    {
      "cell_type": "code",
      "metadata": {
        "id": "RRCuJCqT_Nss",
        "outputId": "251930c3-d5dd-4382-8d53-ab3e9a9ee015",
        "colab": {
          "base_uri": "https://localhost:8080/",
          "height": 52
        }
      },
      "source": [
        "predict_achievment(\"PROD_15\",\"SLSMAN_1\",1,15555)"
      ],
      "execution_count": null,
      "outputs": [
        {
          "output_type": "stream",
          "text": [
            "[5.0000e+00 0.0000e+00 1.0000e+00 1.5555e+04]\n"
          ],
          "name": "stdout"
        },
        {
          "output_type": "execute_result",
          "data": {
            "text/plain": [
              "16147.342289965984"
            ]
          },
          "metadata": {
            "tags": []
          },
          "execution_count": 96
        }
      ]
    }
  ]
}